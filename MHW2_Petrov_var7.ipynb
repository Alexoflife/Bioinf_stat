{
 "cells": [
  {
   "cell_type": "code",
   "execution_count": 44,
   "metadata": {},
   "outputs": [],
   "source": [
    "import numpy as np\n",
    "import pandas as pd\n",
    "import matplotlib.pyplot as plt\n",
    "import math\n",
    "import random\n",
    "import statistics\n",
    "import scipy.stats\n",
    "from scipy.stats import kstest, cramervonmises, norm\n",
    "from scipy import stats"
   ]
  },
  {
   "cell_type": "markdown",
   "metadata": {},
   "source": [
    "# Проверка функций kstest и cramervonmises($\\omega^2$)"
   ]
  },
  {
   "cell_type": "markdown",
   "metadata": {},
   "source": [
    "Убедимся, что используя данные функции, мы получим равномерное распределение значений p-value в случае, если верна нулевая гипотеза(в тесте это принадлежность выборки к стандартному нормальному распределению)."
   ]
  },
  {
   "cell_type": "code",
   "execution_count": 25,
   "metadata": {},
   "outputs": [
    {
     "data": {
      "image/png": "[encoded data removed]",
      "text/plain": [
       "<Figure size 720x360 with 2 Axes>"
      ]
     },
     "metadata": {
      "needs_background": "light"
     },
     "output_type": "display_data"
    }
   ],
   "source": [
    "it = 1000\n",
    "pv_lst_ks= [kstest(norm.rvs(size=100), 'norm').pvalue for i in range(it)]\n",
    "pv_lst_cvm = [cramervonmises(norm.rvs(size=100), 'norm').pvalue for i in range(it)]\n",
    "pv_lst_ks.sort()\n",
    "pv_lst_cvm.sort()\n",
    "plt.figure(figsize=(10, 5))\n",
    "plt.subplot(1, 2, 1)\n",
    "plt.plot(range(it), pv_lst_ks, color='red', label='p_val_sort')\n",
    "plt.plot(range(it), [i/it for i in range(it)], label='Uniform')\n",
    "plt.title('KS')\n",
    "plt.legend()\n",
    "plt.subplot(1, 2, 2)\n",
    "plt.plot(range(it), pv_lst_cvm, color='red', label='p_val_sort')\n",
    "plt.plot(range(it), [i/it for i in range(it)], label='Uniform')\n",
    "plt.title('CVM')\n",
    "plt.legend()\n",
    "plt.show()"
   ]
  },
  {
   "cell_type": "markdown",
   "metadata": {},
   "source": [
    "## Проверка гипотезы\n",
    "### $H_0$ : выборка из нормального распределения с известными параметрами\n",
    "### $H_1$ : выборка из смеси нормальных распределений с различными известными параметрами"
   ]
  },
  {
   "cell_type": "markdown",
   "metadata": {},
   "source": [
    "#### KS"
   ]
  },
  {
   "cell_type": "code",
   "execution_count": 42,
   "metadata": {
    "scrolled": false
   },
   "outputs": [
    {
     "name": "stdout",
     "output_type": "stream",
     "text": [
      "===KS-TEST===\n",
      "\n",
      "\n",
      "=Sample_1=\n",
      "\n",
      "\n",
      "Проверка нулевой гипотезы\n",
      "p-value = 0.7755884747572315\n",
      "\n",
      "\n",
      "Проверка альтернативы\n",
      "p-value = 0.009289732695621198\n",
      "\n",
      "\n",
      "=Sample_2=\n",
      "\n",
      "\n",
      "Проверка нулевой гипотезы\n",
      "p-value = 0.004931344707404404\n",
      "\n",
      "\n",
      "Проверка альтернативы\n",
      "p-value = 0.20071032971464575\n"
     ]
    }
   ],
   "source": [
    "def bimodal_cdf(x, weight_1, a_1, sigma_1, a_2, sigma_2):\n",
    "    #Функция распределения для смеси нормальных распределений\n",
    "    return (weight_1*norm.cdf(x, a_1, sigma_1) + (1 - weight_1)*norm.cdf(x, a_2, sigma_2))\n",
    "\n",
    "a_0 = 3.5\n",
    "sigma_0 = 1.5\n",
    "weight_1 = 0.6\n",
    "a_1 = 3\n",
    "sigma_1 = 1\n",
    "a_2 = 4\n",
    "sigma_2 = 2\n",
    "\n",
    "n = 200\n",
    "n_1 = np.random.binomial(n, p=weight_1)\n",
    "\n",
    "# выборка из нормального распределения с параметрами a_0 и sigma_0\n",
    "sample_1 = norm.rvs(a_0, sigma_0, size=n)\n",
    "\n",
    "# выборка из смеси нормальных распределений с параметрами a_1, sigma_1 и a_2, sigma_2\n",
    "sample_2 = np.concatenate((norm.rvs(a_1, sigma_1, size=n_1), (norm.rvs(a_2, sigma_2, size=n - n_1))))\n",
    "\n",
    "print('===KS-TEST===')\n",
    "print('\\n')\n",
    "print('=Sample_1=')\n",
    "print('\\n')\n",
    "print('Проверка нулевой гипотезы')\n",
    "\n",
    "pvalue_ks_0 = kstest(sample_1, 'norm', args=(a_0, sigma_0)).pvalue\n",
    "print('p-value =', pvalue_ks_0)\n",
    "print('\\n')\n",
    "print('Проверка альтернативы')\n",
    "\n",
    "pvalue_ks_1 = kstest(sample_1, cdf=bimodal_cdf, args=(weight_1, a_1, sigma_1, a_2, sigma_2)).pvalue\n",
    "print('p-value =', pvalue_ks_1)\n",
    "print('\\n')\n",
    "print('=Sample_2=')\n",
    "print('\\n')\n",
    "print('Проверка нулевой гипотезы')\n",
    "\n",
    "pvalue_ks_0 = kstest(sample_2, 'norm', args=(a_0, sigma_0)).pvalue\n",
    "print('p-value =', pvalue_ks_0)\n",
    "print('\\n')\n",
    "print('Проверка альтернативы')\n",
    "\n",
    "pvalue_ks_1 = kstest(sample_2, cdf=bimodal_cdf, args=(weight_1, a_1, sigma_1, a_2, sigma_2)).pvalue\n",
    "print('p-value =', pvalue_ks_1)"
   ]
  },
  {
   "cell_type": "markdown",
   "metadata": {},
   "source": [
    "#### CVM"
   ]
  },
  {
   "cell_type": "code",
   "execution_count": 43,
   "metadata": {},
   "outputs": [
    {
     "name": "stdout",
     "output_type": "stream",
     "text": [
      "===CVM-TEST===\n",
      "\n",
      "\n",
      "=Sample_1=\n",
      "\n",
      "\n",
      "Проверка нулевой гипотезы\n",
      "p-value = 0.6703021837564778\n",
      "\n",
      "\n",
      "Проверка альтернативы\n",
      "p-value = 0.03950646172507799\n",
      "\n",
      "\n",
      "=Sample_2=\n",
      "\n",
      "\n",
      "Проверка нулевой гипотезы\n",
      "p-value = 0.002178189487001325\n",
      "\n",
      "\n",
      "Проверка альтернативы\n",
      "p-value = 0.17851409307027877\n"
     ]
    }
   ],
   "source": [
    "print('===CVM-TEST===')\n",
    "print('\\n')\n",
    "print('=Sample_1=')\n",
    "print('\\n')\n",
    "print('Проверка нулевой гипотезы')\n",
    "\n",
    "pvalue_ks_0 = cramervonmises(sample_1, 'norm', args=(a_0, sigma_0)).pvalue\n",
    "print('p-value =', pvalue_ks_0)\n",
    "print('\\n')\n",
    "print('Проверка альтернативы')\n",
    "\n",
    "pvalue_ks_1 = cramervonmises(sample_1, cdf=bimodal_cdf, args=(weight_1, a_1, sigma_1, a_2, sigma_2)).pvalue\n",
    "print('p-value =', pvalue_ks_1)\n",
    "print('\\n')\n",
    "print('=Sample_2=')\n",
    "print('\\n')\n",
    "print('Проверка нулевой гипотезы')\n",
    "\n",
    "pvalue_ks_0 = cramervonmises(sample_2, 'norm', args=(a_0, sigma_0)).pvalue\n",
    "print('p-value =', pvalue_ks_0)\n",
    "print('\\n')\n",
    "print('Проверка альтернативы')\n",
    "\n",
    "pvalue_ks_1 = cramervonmises(sample_2, cdf=bimodal_cdf, args=(weight_1, a_1, sigma_1, a_2, sigma_2)).pvalue\n",
    "print('p-value =', pvalue_ks_1)"
   ]
  },
  {
   "cell_type": "markdown",
   "metadata": {},
   "source": [
    "Оба теста корректно работают. Если задать, например, $\\alpha=0.05$, то для `sample_1` нулевая гипотеза не может быть отвергнута, а альтернатива может. Так и для `sample_2` нулевая гипотеза может быть отвергнута, а альтернатива нет.   "
   ]
  },
  {
   "cell_type": "markdown",
   "metadata": {},
   "source": [
    "## Сравнение мощностей"
   ]
  },
  {
   "cell_type": "code",
   "execution_count": 76,
   "metadata": {},
   "outputs": [
    {
     "data": {
      "image/png": "[encoded data removed]",
      "text/plain": [
       "<Figure size 360x360 with 1 Axes>"
      ]
     },
     "metadata": {
      "needs_background": "light"
     },
     "output_type": "display_data"
    }
   ],
   "source": [
    "it = 2000\n",
    "pv_lst_ks = []\n",
    "pv_lst_cvm = []\n",
    "x = []\n",
    "y_1 = []\n",
    "y_2 = []\n",
    "for _ in range(it):\n",
    "    sample = np.concatenate((norm.rvs(a_1, sigma_1, size=n_1), (norm.rvs(a_2, sigma_2, size=n - n_1))))\n",
    "    pv_lst_ks.append(kstest(sample, 'norm', args=(a_0, sigma_0)).pvalue)\n",
    "    pv_lst_cvm.append(cramervonmises(sample, 'norm', args=(a_0, sigma_0)).pvalue)\n",
    "for alpha in np.linspace(0, 0.5, 100):\n",
    "    power_ks = 1-sum(pv for pv in pv_lst_ks if pv > alpha)/it\n",
    "    power_cvm = 1-sum(pv for pv in pv_lst_cvm if pv > alpha)/it\n",
    "    x.append(alpha)\n",
    "    y_1.append(power_ks)\n",
    "    y_2.append(power_cvm)\n",
    "    \n",
    "plt.figure(figsize=(5, 5))\n",
    "plt.plot(x, y_1, label='KS')\n",
    "plt.plot(x, y_2, label='CVM')\n",
    "plt.legend()\n",
    "plt.xlabel('alpha')\n",
    "plt.ylabel('power')\n",
    "plt.show()"
   ]
  },
  {
   "cell_type": "markdown",
   "metadata": {},
   "source": [
    "Мощность CVM теста выше"
   ]
  }
 ],
 "metadata": {
  "kernelspec": {
   "display_name": "Python 3",
   "language": "python",
   "name": "python3"
  },
  "language_info": {
   "codemirror_mode": {
    "name": "ipython",
    "version": 3
   },
   "file_extension": ".py",
   "mimetype": "text/x-python",
   "name": "python",
   "nbconvert_exporter": "python",
   "pygments_lexer": "ipython3",
   "version": "3.8.3"
  }
 },
 "nbformat": 4,
 "nbformat_minor": 4
}
